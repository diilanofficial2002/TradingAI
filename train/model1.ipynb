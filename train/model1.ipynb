{
 "cells": [
  {
   "cell_type": "markdown",
   "metadata": {},
   "source": [
    "## Binary option AI trading"
   ]
  },
  {
   "cell_type": "markdown",
   "metadata": {},
   "source": [
    "#### made by DiilanOfficial"
   ]
  },
  {
   "cell_type": "code",
   "execution_count": 37,
   "metadata": {},
   "outputs": [],
   "source": [
    "# import necessary libraby\n",
    "\n",
    "import pandas as pd\n",
    "from sklearn.preprocessing import MinMaxScaler\n",
    "import numpy as np\n",
    "from keras.models import Sequential\n",
    "from keras.layers import LSTM, Dense, Dropout\n",
    "from sklearn.model_selection import train_test_split\n",
    "from sklearn.ensemble import RandomForestClassifier"
   ]
  },
  {
   "cell_type": "markdown",
   "metadata": {},
   "source": [
    "### Data preparation"
   ]
  },
  {
   "cell_type": "code",
   "execution_count": 25,
   "metadata": {},
   "outputs": [
    {
     "name": "stdout",
     "output_type": "stream",
     "text": [
      "                  Date     Open     High      Low    Close\n",
      "0  2024-09-16 03:30:00  155.638  155.645  155.470  155.590\n",
      "1  2024-09-16 04:00:00  155.597  155.640  155.402  155.601\n",
      "2  2024-09-16 04:30:00  155.599  155.703  155.549  155.599\n",
      "3  2024-09-16 05:00:00  155.598  155.670  155.478  155.533\n",
      "4  2024-09-16 05:30:00  155.536  155.588  155.446  155.580\n",
      "5  2024-09-16 06:00:00  155.586  155.632  155.444  155.599\n",
      "6  2024-09-16 06:30:00  155.601  155.621  155.261  155.441\n",
      "7  2024-09-16 07:00:00  155.443  155.500  155.158  155.240\n",
      "8  2024-09-16 07:30:00  155.238  155.516  155.162  155.471\n",
      "9  2024-09-16 08:00:00  155.469  155.540  155.374  155.480\n",
      "10 2024-09-16 08:30:00  155.478  155.598  155.448  155.550\n",
      "11 2024-09-16 09:00:00  155.551  155.775  155.536  155.733\n",
      "12 2024-09-16 09:30:00  155.725  155.974  155.692  155.910\n",
      "13 2024-09-16 10:00:00  155.919  156.011  155.828  155.879\n",
      "14 2024-09-16 10:30:00  155.885  155.909  155.758  155.845\n",
      "15 2024-09-16 11:00:00  155.843  155.863  155.701  155.793\n",
      "16 2024-09-16 11:30:00  155.788  155.830  155.601  155.605\n",
      "17 2024-09-16 12:00:00  155.597  155.691  155.504  155.627\n",
      "18 2024-09-16 12:30:00  155.614  156.179  155.614  156.013\n",
      "19 2024-09-16 13:00:00  156.007  156.271  155.996  156.252\n"
     ]
    }
   ],
   "source": [
    "# Load the data and specify the date format\n",
    "\n",
    "df = pd.read_csv('../data/EURJPY_historical_data.csv')\n",
    "\n",
    "df['Date'] = pd.to_datetime(df['Date'], format='%m/%d/%Y %H:%M')\n",
    "\n",
    "# Resample data to 30-minute intervals\n",
    "df_resampled = df.resample('30min', on='Date').agg({\n",
    "    'Open': 'first',\n",
    "    'High': 'max',\n",
    "    'Low': 'min',\n",
    "    'Close': 'last'\n",
    "}).dropna().reset_index()\n",
    "\n",
    "print(df_resampled.head(20))"
   ]
  },
  {
   "cell_type": "code",
   "execution_count": 26,
   "metadata": {},
   "outputs": [
    {
     "name": "stdout",
     "output_type": "stream",
     "text": [
      "                  Date     Open     High      Low    Close     SMA_5  \\\n",
      "0  2024-09-16 03:30:00  155.638  155.645  155.470  155.590       NaN   \n",
      "1  2024-09-16 04:00:00  155.597  155.640  155.402  155.601       NaN   \n",
      "2  2024-09-16 04:30:00  155.599  155.703  155.549  155.599       NaN   \n",
      "3  2024-09-16 05:00:00  155.598  155.670  155.478  155.533       NaN   \n",
      "4  2024-09-16 05:30:00  155.536  155.588  155.446  155.580  155.5806   \n",
      "5  2024-09-16 06:00:00  155.586  155.632  155.444  155.599  155.5824   \n",
      "6  2024-09-16 06:30:00  155.601  155.621  155.261  155.441  155.5504   \n",
      "7  2024-09-16 07:00:00  155.443  155.500  155.158  155.240  155.4786   \n",
      "8  2024-09-16 07:30:00  155.238  155.516  155.162  155.471  155.4662   \n",
      "9  2024-09-16 08:00:00  155.469  155.540  155.374  155.480  155.4462   \n",
      "10 2024-09-16 08:30:00  155.478  155.598  155.448  155.550  155.4364   \n",
      "11 2024-09-16 09:00:00  155.551  155.775  155.536  155.733  155.4948   \n",
      "12 2024-09-16 09:30:00  155.725  155.974  155.692  155.910  155.6288   \n",
      "13 2024-09-16 10:00:00  155.919  156.011  155.828  155.879  155.7104   \n",
      "14 2024-09-16 10:30:00  155.885  155.909  155.758  155.845  155.7834   \n",
      "\n",
      "          RSI  \n",
      "0         NaN  \n",
      "1         NaN  \n",
      "2         NaN  \n",
      "3         NaN  \n",
      "4         NaN  \n",
      "5         NaN  \n",
      "6         NaN  \n",
      "7         NaN  \n",
      "8         NaN  \n",
      "9         NaN  \n",
      "10        NaN  \n",
      "11        NaN  \n",
      "12        NaN  \n",
      "13  61.991701  \n",
      "14  60.290557  \n"
     ]
    }
   ],
   "source": [
    "# Calculate SMA5 and RSI\n",
    "\n",
    "# Function to calculate RSI\n",
    "def calculate_rsi(data, window):\n",
    "    delta = data.diff(1)\n",
    "    gain = (delta.where(delta > 0, 0)).rolling(window=window).mean()\n",
    "    loss = (-delta.where(delta < 0, 0)).rolling(window=window).mean()\n",
    "    RS = gain / loss\n",
    "    return 100 - (100 / (1 + RS))\n",
    "\n",
    "df_resampled['SMA_5'] = df_resampled['Close'].rolling(window=5).mean()\n",
    "df_resampled['RSI'] = calculate_rsi(df_resampled['Close'], 14)  # Implement RSI\n",
    "\n",
    "print(df_resampled.head(15))"
   ]
  },
  {
   "cell_type": "code",
   "execution_count": 41,
   "metadata": {},
   "outputs": [
    {
     "name": "stdout",
     "output_type": "stream",
     "text": [
      "<class 'numpy.int64'>\n"
     ]
    }
   ],
   "source": [
    "# Labeling Data for Binary Option\n",
    "\n",
    "df_resampled['Target'] = (df_resampled['Close'].shift(-6) > df_resampled['Close']).astype(int)\n",
    "\n",
    "# Drop NaN values\n",
    "df_resampled.dropna(inplace=True)\n",
    "print(df_resampled['Date'].count())\n"
   ]
  },
  {
   "cell_type": "markdown",
   "metadata": {},
   "source": [
    "### Data processing"
   ]
  },
  {
   "cell_type": "code",
   "execution_count": 47,
   "metadata": {},
   "outputs": [],
   "source": [
    "# Normalize the Data\n",
    "\n",
    "# Features for the model\n",
    "features = ['Open', 'High', 'Low', 'Close', 'SMA_5', 'RSI']\n",
    "\n",
    "# Normalize the data\n",
    "scaler = MinMaxScaler()\n",
    "df_resampled[features] = scaler.fit_transform(df_resampled[features])\n",
    "\n",
    "# Define X and y\n",
    "X = df_resampled[features].values\n",
    "y = df_resampled['Target'].values\n",
    "\n",
    "# Split data into training and test sets\n",
    "X_train, X_test, y_train, y_test = train_test_split(X, y, test_size=0.2, shuffle=False)\n",
    "\n",
    "# timestep = 60\n",
    "# X_train = X_train.reshape((X_train.shape[0], timestep, X_train.shape[1]))\n",
    "# X_test = X_test.reshape((X_test.shape[0], timestep, X_test.shape[1]))\n",
    "# y_train = y_train.reshape((y_train.shape[0], timestep, y_train.shape[1]))\n",
    "# y_test = y_test.reshape((y_test.shape[0], timestep, y_test.shape[1]))\n"
   ]
  },
  {
   "cell_type": "markdown",
   "metadata": {},
   "source": [
    "### LSTM Model for Sequential Prediction"
   ]
  },
  {
   "cell_type": "code",
   "execution_count": 52,
   "metadata": {},
   "outputs": [
    {
     "name": "stdout",
     "output_type": "stream",
     "text": [
      "(100, 6)\n"
     ]
    }
   ],
   "source": [
    "# Initialize Random Forest\n",
    "rf_model = RandomForestClassifier(n_estimators=100, random_state=42)\n",
    "\n",
    "# Train the model\n",
    "rf_model.fit(X_train, y_train)\n",
    "\n",
    "# Predict on training set (or test set later)\n",
    "rf_pred = rf_model.predict(X_train)\n",
    "\n",
    "print(X_train.shape)"
   ]
  },
  {
   "cell_type": "code",
   "execution_count": 55,
   "metadata": {},
   "outputs": [],
   "source": [
    "# Reshape X_train for LSTM (samples, timesteps, features)\n",
    "timesteps = 6\n",
    "feature = len(features)\n",
    "\n",
    "samples = int(X_train.shape[0] / (timesteps * feature))\n",
    "\n",
    "# X_train_lstm = np.reshape(X_train, (X_train.shape[0], timesteps, feature))\n",
    "\n",
    "# # Initialize LSTM\n",
    "# lstm_model = Sequential()\n",
    "# lstm_model.add(LSTM(units=50, return_sequences=True, input_shape=(timesteps, feature)))\n",
    "# lstm_model.add(Dropout(0.2))\n",
    "# lstm_model.add(LSTM(units=50, return_sequences=False))\n",
    "# lstm_model.add(Dropout(0.2))\n",
    "# lstm_model.add(Dense(units=1, activation='sigmoid'))\n",
    "\n",
    "# # Compile the model\n",
    "# lstm_model.compile(optimizer='adam', loss='binary_crossentropy', metrics=['accuracy'])\n",
    "\n",
    "# # Train LSTM\n",
    "# lstm_model.fit(X_train_lstm, y_train, epochs=10, batch_size=32)"
   ]
  }
 ],
 "metadata": {
  "kernelspec": {
   "display_name": "Python 3",
   "language": "python",
   "name": "python3"
  },
  "language_info": {
   "codemirror_mode": {
    "name": "ipython",
    "version": 3
   },
   "file_extension": ".py",
   "mimetype": "text/x-python",
   "name": "python",
   "nbconvert_exporter": "python",
   "pygments_lexer": "ipython3",
   "version": "3.11.9"
  }
 },
 "nbformat": 4,
 "nbformat_minor": 2
}
